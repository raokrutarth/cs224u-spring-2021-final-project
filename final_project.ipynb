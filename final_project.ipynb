{
  "nbformat": 4,
  "nbformat_minor": 0,
  "metadata": {
    "colab": {
      "name": "final_project.ipynb",
      "provenance": [],
      "collapsed_sections": [
        "t4KsKBXetLjm",
        "cLjV5xOVtLjn",
        "RPb0N5gUtLjo",
        "qmn-_p1CtLjp",
        "BB6Qa00wtLjq",
        "mIpHfiUJtLjq"
      ]
    },
    "kernelspec": {
      "display_name": "Python 3",
      "language": "python",
      "name": "python3"
    },
    "language_info": {
      "codemirror_mode": {
        "name": "ipython",
        "version": 3
      },
      "file_extension": ".py",
      "mimetype": "text/x-python",
      "name": "python",
      "nbconvert_exporter": "python",
      "pygments_lexer": "ipython3",
      "version": "3.8.5"
    },
    "accelerator": "GPU"
  },
  "cells": [
    {
      "cell_type": "markdown",
      "metadata": {
        "id": "mpJpgBcPtLji"
      },
      "source": [
        "# Final Project - Data Driven Relation Extraction Learning"
      ]
    },
    {
      "cell_type": "code",
      "metadata": {
        "id": "Bh-jq-6F4pzK",
        "colab": {
          "base_uri": "https://localhost:8080/"
        },
        "outputId": "47bf1d20-3f82-4a5a-e890-48edb613da82"
      },
      "source": [
        " # this mounts your Google Drive to the Colab VM.\n",
        "from google.colab import drive\n",
        "drive.mount('/content/drive', force_remount=True)\n",
        "\n",
        "# enter the foldername in your Drive where you have saved the unzipped\n",
        "# assignment folder\n",
        "FOLDERNAME = 'cs224u/'\n",
        "assert FOLDERNAME is not None, \"[!] Enter the foldername.\"\n",
        "\n",
        "# this ensures that the Python interpreter of the Colab VM can load\n",
        "# python files from within it.\n",
        "import sys\n",
        "sys.path.append('/content/drive/My Drive/{}'.format(FOLDERNAME))"
      ],
      "execution_count": 205,
      "outputs": [
        {
          "output_type": "stream",
          "text": [
            "Mounted at /content/drive\n"
          ],
          "name": "stdout"
        }
      ]
    },
    {
      "cell_type": "code",
      "metadata": {
        "id": "T_BWnGeetLjl"
      },
      "source": [
        "import numpy as np\n",
        "import os\n",
        "import rel_ext\n",
        "from sklearn.linear_model import LogisticRegression\n",
        "import utils\n",
        "import json\n",
        "import random\n",
        "from collections import defaultdict"
      ],
      "execution_count": 206,
      "outputs": []
    },
    {
      "cell_type": "code",
      "metadata": {
        "id": "CjBGeseZtLjl",
        "colab": {
          "base_uri": "https://localhost:8080/",
          "height": 35
        },
        "outputId": "b48100c2-b8a9-46ac-a670-04a862e90e06"
      },
      "source": [
        "rel_ext_data_home = os.path.join(sys.path[-1],'data/rel_ext_data')\n",
        "rel_ext_data_home"
      ],
      "execution_count": 207,
      "outputs": [
        {
          "output_type": "execute_result",
          "data": {
            "application/vnd.google.colaboratory.intrinsic+json": {
              "type": "string"
            },
            "text/plain": [
              "'/content/drive/My Drive/cs224u/data/rel_ext_data'"
            ]
          },
          "metadata": {
            "tags": []
          },
          "execution_count": 207
        }
      ]
    },
    {
      "cell_type": "code",
      "metadata": {
        "id": "44Rg927jtLjl"
      },
      "source": [
        "corpus = rel_ext.Corpus(os.path.join(rel_ext_data_home, 'corpus.tsv.gz'))"
      ],
      "execution_count": 208,
      "outputs": []
    },
    {
      "cell_type": "code",
      "metadata": {
        "id": "s42TCWoOtLjl"
      },
      "source": [
        "kb = rel_ext.KB(os.path.join(rel_ext_data_home, 'kb.tsv.gz'))"
      ],
      "execution_count": 209,
      "outputs": []
    },
    {
      "cell_type": "code",
      "metadata": {
        "id": "cvOvoLisNJgH"
      },
      "source": [
        "dataset = rel_ext.Dataset(corpus, kb)"
      ],
      "execution_count": 210,
      "outputs": []
    },
    {
      "cell_type": "code",
      "metadata": {
        "id": "cZ9AlpA-tLjm",
        "colab": {
          "base_uri": "https://localhost:8080/"
        },
        "outputId": "cfb5d7e9-65a8-49b2-b8f5-a60d65b6c840"
      },
      "source": [
        "dataset = rel_ext.Dataset(corpus, kb)\n",
        "dataset"
      ],
      "execution_count": 211,
      "outputs": [
        {
          "output_type": "execute_result",
          "data": {
            "text/plain": [
              "Corpus with 331,696 examples; KB with 45,884 triples"
            ]
          },
          "metadata": {
            "tags": []
          },
          "execution_count": 211
        }
      ]
    },
    {
      "cell_type": "code",
      "metadata": {
        "id": "kbv_IUIOtLjm"
      },
      "source": [
        "splits = dataset.build_splits(\n",
        "  split_names=['tiny', 'train', 'dev'],\n",
        "  # tiny was used during development only\n",
        "  split_fracs=[0.00, 0.80, 0.20],  \n",
        "  seed=1,\n",
        ")"
      ],
      "execution_count": 212,
      "outputs": []
    },
    {
      "cell_type": "code",
      "metadata": {
        "colab": {
          "base_uri": "https://localhost:8080/"
        },
        "id": "b-C1V0KykK2K",
        "outputId": "c4ddb001-7c0d-422b-9234-97bf6f7d20eb"
      },
      "source": [
        "# Expriments with filtering the training corpus by sentence type/topic.\n",
        "# Sentence types: Declarative, Imperative, Interrogative, Exclamatory\n",
        "# Sentence topics: History, Economics, Science, Politics, Arts, Sports, Business\n",
        "\n",
        "class_to_indices = defaultdict(set)\n",
        "with open(os.path.join(rel_ext_data_home, 'sentence_types_roberta.txt')) as f:\n",
        "    for line in f.readlines():\n",
        "        idx, e1, e2, _cls = line.split(\"\\t\")\n",
        "        class_to_indices[_cls.strip()].add(int(idx))\n",
        "\n",
        "corpus_by_class = {}\n",
        "for _class, indices in class_to_indices.items():\n",
        "    examples = []\n",
        "    for idx in indices:\n",
        "        examples.append(corpus.examples[idx])\n",
        "    corpus_by_class[_class] = rel_ext.Corpus(examples)\n",
        "\n",
        "print(\"Corpus classes:\\n\", corpus_by_class)\n",
        "\n",
        "# Create a superset of permitted corpus examples that will\n",
        "# be utilized to filter the training corpus.\n",
        "selected_sentence_type = \"Exclamatory\"\n",
        "selected_corpus = corpus_by_class[selected_sentence_type]\n",
        "train_corpus_superset = set(selected_corpus.examples)\n",
        "print(\"Selected Corpus:\\n\", selected_sentence_type, selected_corpus)\n",
        "\n",
        "# filter the examples in the training corpus by the selected category\n",
        "training_corpus = splits[\"train\"].corpus\n",
        "print(\"Corpus pre-filter: \",  splits[\"train\"].corpus)\n",
        "filtered_examples = train_corpus_superset.intersection(training_corpus.examples)\n",
        "splits[\"train\"].corpus = rel_ext.Corpus(filtered_examples)\n",
        "print(\"Corpus post-filter: \",  splits[\"train\"].corpus)\n",
        "\n",
        "# log some samples for manual verification\n",
        "sample_sentences = [\n",
        "    \" \".join([e.left, e.mention_1, e.middle, e.mention_2, e.right])\n",
        "    for e in  random.sample(splits[\"train\"].corpus.examples, 5)\n",
        "]\n",
        "\n",
        "print(\n",
        "  \"Sample of filtered sentences:\\n\", \n",
        "  sample_sentences,\n",
        ")"
      ],
      "execution_count": 213,
      "outputs": [
        {
          "output_type": "stream",
          "text": [
            "Corpus classes:\n",
            " {'Exclamatory': Corpus with 197,594 examples, 'Declarative': Corpus with 16,682 examples, 'Imperative': Corpus with 113,941 examples, 'Interrogative': Corpus with 3,479 examples}\n",
            "Selected Corpus:\n",
            " Exclamatory Corpus with 197,594 examples\n",
            "Corpus pre-filter:  Corpus with 266,759 examples\n",
            "Corpus post-filter:  Corpus with 159,088 examples\n",
            "Sample of filtered sentences:\n",
            " [\"although she determined to succeed any task she dose n't think it through before doing most things , she is the guardian of courage her symbol is a star and her main color is red and her zoot is Zora . Haemi Haemi is sweet girl who try 's to see the best in life she unlike Chaney , thinks before she does\", 'day a week together to try out some new flies that we might use in the upcoming two day contest that takes place on the Snake River in Wyoming and the South Fork in Idaho . We always get hooked on a couple new fun patterns but in the end , I usually fish a', 'climbs over 3,000ft high . Most rock climbers just call this climb “ El Cap. ” The top of El Capitan can be reached by hiking out of Yosemite Valley on the trail next to Yosemite Falls , then proceeding west . For climbers , the challenge is to climb up the sheer granite face ; there are many named climbing routes , all of', \"during live shows . For instance , the set list usually includes renditions of `` Bang Bang ( My Baby Shot Me Down ) `` ( a song written by Sonny Bono and popularized by both Cher and Nancy Sinatra ) and `` Headin ' for the Texas Border '' by The Flamin ' Groovies . Other songs the band has covered include Gnarls Barkley 's\", 'it interests us : What books or authors and/or illustrators influenced you as an early reader ? Chris : Richard Adams ( author ) , N.C.Wyeth , E.B . White , Ernest Shepard , Arnold Lobel . 4 . 7-Imp : If you could have three ( living ) illustrators—whom you have not yet met—over for coffee or a glass of rich , red wine ,']\n"
          ],
          "name": "stdout"
        }
      ]
    },
    {
      "cell_type": "code",
      "metadata": {
        "id": "UPmaDKKbMy5o"
      },
      "source": [
        "# Expriments with NELL relations added to the training dataset\n",
        "\n",
        "# with open(os.path.join(rel_ext_data_home,\"nell_extracted.json\"), \"r\") as f:\n",
        "#     nell_relations = json.loads(f.read())\n",
        "#     nell_relations = [\n",
        "#         rel_ext.KBTriple(\n",
        "#             rel=r[\"rel\"],\n",
        "#             sbj=r[\"sbj\"],\n",
        "#             obj=r[\"obj\"],\n",
        "#         )\n",
        "#         for r in nell_relations\n",
        "#         if r[\"sbj\"] != r[\"obj\"]\n",
        "#     ]\n",
        "\n",
        "# print(\"Training KB before: \", splits[\"train\"].kb)\n",
        "# training_kb = splits[\"train\"].kb\n",
        "# training_kb.kb_triples.extend(nell_relations)\n",
        "\n",
        "# # TODO: add rule based cleanup to avoid invalid relations \n",
        "# # resulting from fuzzy string match \n",
        "# training_kb._collect_all_entity_pairs()\n",
        "# training_kb._index_kb_triples_by_relation()\n",
        "# training_kb._index_kb_triples_by_entities()\n",
        "# print(\"Training KB after NELL relation addition: \", splits[\"train\"].kb)"
      ],
      "execution_count": 214,
      "outputs": []
    },
    {
      "cell_type": "code",
      "metadata": {
        "id": "wlOJi943ugyw"
      },
      "source": [
        "# Expriments with docred relations added to the training dataset\n",
        "\n",
        "# with open(os.path.join(rel_ext_data_home,\"docred_extracted.json\"), \"r\") as f:\n",
        "#     docred_relations = json.loads(f.read())\n",
        "\n",
        "#     # entities known to contain invalid relations\n",
        "#     bad_entities = set([\"Lo\", \"Eni\", \"Eni!\", \"Lo!\"])\n",
        "\n",
        "#     docred_relations = [\n",
        "#         rel_ext.KBTriple(\n",
        "#             rel=r[\"rel\"],\n",
        "#             sbj=r[\"sbj\"],\n",
        "#             obj=r[\"obj\"],\n",
        "#         )\n",
        "#         for r in docred_relations \n",
        "#         if r['sbj'] != r['obj'] \n",
        "#         and not bad_entities.intersection(r.values())\n",
        "#     ]\n",
        "  \n",
        "# print(\"Training KB before: \", splits[\"train\"].kb)\n",
        "# training_kb = splits[\"train\"].kb\n",
        "# training_kb.kb_triples.extend(docred_relations)\n",
        "\n",
        "# # TODO: add rule based cleanup to avoid invalid relations \n",
        "# # resulting from fuzzy string match \n",
        "# training_kb._collect_all_entity_pairs()\n",
        "# training_kb._index_kb_triples_by_relation()\n",
        "# training_kb._index_kb_triples_by_entities()\n",
        "# print(\"Training KB after DocRED relation addition: \", splits[\"train\"].kb)"
      ],
      "execution_count": 215,
      "outputs": []
    },
    {
      "cell_type": "code",
      "metadata": {
        "id": "z2VlqVff92mG"
      },
      "source": [
        "# random.sample(docred_relations, 10)\n",
        "# splits[\"train\"].count_relation_combinations()"
      ],
      "execution_count": 216,
      "outputs": []
    },
    {
      "cell_type": "markdown",
      "metadata": {
        "id": "t4KsKBXetLjm"
      },
      "source": [
        "### Hand-build feature functions"
      ]
    },
    {
      "cell_type": "code",
      "metadata": {
        "id": "-hSqaZv9tLjm"
      },
      "source": [
        "def simple_bag_of_words_featurizer(kbt, corpus, feature_counter):\n",
        "    for ex in corpus.get_examples_for_entities(kbt.sbj, kbt.obj):\n",
        "        for word in ex.middle.split(' '):\n",
        "            feature_counter[word] += 1\n",
        "    for ex in corpus.get_examples_for_entities(kbt.obj, kbt.sbj):\n",
        "        for word in ex.middle.split(' '):\n",
        "            feature_counter[word] += 1\n",
        "    return feature_counter"
      ],
      "execution_count": 217,
      "outputs": []
    },
    {
      "cell_type": "code",
      "metadata": {
        "id": "pe4cgpyTtLjm"
      },
      "source": [
        "featurizers = [simple_bag_of_words_featurizer]"
      ],
      "execution_count": 218,
      "outputs": []
    },
    {
      "cell_type": "code",
      "metadata": {
        "id": "gim9UqnltLjn"
      },
      "source": [
        "model_factory = lambda: LogisticRegression(fit_intercept=True, solver='liblinear')"
      ],
      "execution_count": 219,
      "outputs": []
    },
    {
      "cell_type": "code",
      "metadata": {
        "colab": {
          "base_uri": "https://localhost:8080/"
        },
        "id": "wXJuXlPmtLjn",
        "outputId": "cbce02a7-8b77-430b-b467-d0a04e62845d"
      },
      "source": [
        "baseline_results, data_results = rel_ext.experiment(\n",
        "    splits,\n",
        "    train_split='train',\n",
        "    test_split='dev',\n",
        "    featurizers=featurizers,\n",
        "    model_factory=model_factory,\n",
        "    verbose=True)"
      ],
      "execution_count": 220,
      "outputs": [
        {
          "output_type": "stream",
          "text": [
            "relation              precision     recall    f-score    support       size\n",
            "------------------    ---------  ---------  ---------  ---------  ---------\n",
            "adjoins                   0.881      0.391      0.704        340       5716\n",
            "author                    0.677      0.583      0.656        509       5885\n",
            "capital                   0.737      0.295      0.567         95       5471\n",
            "contains                  0.627      0.847      0.662       3904       9280\n",
            "film_performance          0.628      0.633      0.629        766       6142\n",
            "founders                  0.582      0.363      0.520        380       5756\n",
            "genre                     0.500      0.176      0.366        170       5546\n",
            "has_sibling               0.791      0.220      0.521        499       5875\n",
            "has_spouse                0.786      0.340      0.623        594       5970\n",
            "is_a                      0.547      0.221      0.423        497       5873\n",
            "nationality               0.400      0.186      0.325        301       5677\n",
            "parents                   0.806      0.545      0.735        312       5688\n",
            "place_of_birth            0.479      0.150      0.333        233       5609\n",
            "place_of_death            0.359      0.088      0.222        159       5535\n",
            "profession                0.461      0.166      0.340        247       5623\n",
            "worked_at                 0.622      0.231      0.465        242       5618\n",
            "------------------    ---------  ---------  ---------  ---------  ---------\n",
            "macro-average             0.618      0.340      0.506       9248      95264\n"
          ],
          "name": "stdout"
        }
      ]
    },
    {
      "cell_type": "markdown",
      "metadata": {
        "id": "RXvSPJYmtLjn"
      },
      "source": [
        "Studying model weights might yield insights:"
      ]
    },
    {
      "cell_type": "code",
      "metadata": {
        "colab": {
          "base_uri": "https://localhost:8080/"
        },
        "id": "npTs3S8TtLjn",
        "outputId": "7360287c-02bc-4e8c-de30-63532a47df30"
      },
      "source": [
        "rel_ext.examine_model_weights(baseline_results)"
      ],
      "execution_count": 221,
      "outputs": [
        {
          "output_type": "stream",
          "text": [
            "Highest and lowest feature weights for relation adjoins:\n",
            "\n",
            "     2.284 Taluks\n",
            "     2.223 Córdoba\n",
            "     2.198 Valais\n",
            "     ..... .....\n",
            "    -1.179 America\n",
            "    -1.247 his\n",
            "    -1.458 who\n",
            "\n",
            "Highest and lowest feature weights for relation author:\n",
            "\n",
            "     3.098 book\n",
            "     2.537 author\n",
            "     2.269 philosopher\n",
            "     ..... .....\n",
            "    -2.432 and\n",
            "    -2.434 during\n",
            "    -2.834 or\n",
            "\n",
            "Highest and lowest feature weights for relation capital:\n",
            "\n",
            "     4.006 capital\n",
            "     1.757 city\n",
            "     1.471 km\n",
            "     ..... .....\n",
            "    -1.129 or\n",
            "    -1.139 by\n",
            "    -1.380 and\n",
            "\n",
            "Highest and lowest feature weights for relation contains:\n",
            "\n",
            "     2.942 bordered\n",
            "     2.889 mainland\n",
            "     2.602 districts\n",
            "     ..... .....\n",
            "    -2.405 who\n",
            "    -2.463 or\n",
            "    -2.714 film\n",
            "\n",
            "Highest and lowest feature weights for relation film_performance:\n",
            "\n",
            "     4.423 appears\n",
            "     4.031 starring\n",
            "     3.537 opposite\n",
            "     ..... .....\n",
            "    -2.173 and\n",
            "    -2.207 ;\n",
            "    -2.633 or\n",
            "\n",
            "Highest and lowest feature weights for relation founders:\n",
            "\n",
            "     4.210 founded\n",
            "     4.180 founder\n",
            "     2.904 led\n",
            "     ..... .....\n",
            "    -1.679 and\n",
            "    -1.945 ,\n",
            "    -2.235 or\n",
            "\n",
            "Highest and lowest feature weights for relation genre:\n",
            "\n",
            "     2.487 science\n",
            "     2.190 series\n",
            "     2.092 Ghilli\n",
            "     ..... .....\n",
            "    -1.885 ;\n",
            "    -2.127 at\n",
            "    -2.255 and\n",
            "\n",
            "Highest and lowest feature weights for relation has_sibling:\n",
            "\n",
            "     4.794 brother\n",
            "     4.311 sister\n",
            "     2.360 uncle\n",
            "     ..... .....\n",
            "    -1.407 from\n",
            "    -1.412 starring\n",
            "    -1.922 formed\n",
            "\n",
            "Highest and lowest feature weights for relation has_spouse:\n",
            "\n",
            "     5.089 wife\n",
            "     4.387 husband\n",
            "     3.950 married\n",
            "     ..... .....\n",
            "    -1.515 on\n",
            "    -1.579 or\n",
            "    -1.715 in\n",
            "\n",
            "Highest and lowest feature weights for relation is_a:\n",
            "\n",
            "     4.331 commerce\n",
            "     3.418 elk\n",
            "     3.374 sport\n",
            "     ..... .....\n",
            "    -2.248 cat\n",
            "    -2.369 at\n",
            "    -2.597 Bombus\n",
            "\n",
            "Highest and lowest feature weights for relation nationality:\n",
            "\n",
            "     2.881 born\n",
            "     2.753 president\n",
            "     2.588 Mumbai\n",
            "     ..... .....\n",
            "    -1.955 ,\n",
            "    -2.431 or\n",
            "    -2.478 and\n",
            "\n",
            "Highest and lowest feature weights for relation parents:\n",
            "\n",
            "     5.599 son\n",
            "     5.119 daughter\n",
            "     4.607 father\n",
            "     ..... .....\n",
            "    -1.633 in\n",
            "    -1.789 at\n",
            "    -2.106 where\n",
            "\n",
            "Highest and lowest feature weights for relation place_of_birth:\n",
            "\n",
            "     3.763 born\n",
            "     3.659 birthplace\n",
            "     2.867 century\n",
            "     ..... .....\n",
            "    -1.840 ;\n",
            "    -2.399 or\n",
            "    -2.731 and\n",
            "\n",
            "Highest and lowest feature weights for relation place_of_death:\n",
            "\n",
            "     2.433 Gallery\n",
            "     2.423 Germany\n",
            "     2.292 saw\n",
            "     ..... .....\n",
            "    -1.793 ;\n",
            "    -1.945 or\n",
            "    -2.522 and\n",
            "\n",
            "Highest and lowest feature weights for relation profession:\n",
            "\n",
            "     3.299 philosopher\n",
            "     2.855 physicist\n",
            "     2.653 producer\n",
            "     ..... .....\n",
            "    -2.115 to\n",
            "    -2.118 on\n",
            "    -2.244 at\n",
            "\n",
            "Highest and lowest feature weights for relation worked_at:\n",
            "\n",
            "     3.244 president\n",
            "     3.194 founder\n",
            "     3.055 head\n",
            "     ..... .....\n",
            "    -1.577 and\n",
            "    -1.582 in\n",
            "    -2.228 or\n",
            "\n"
          ],
          "name": "stdout"
        }
      ]
    },
    {
      "cell_type": "markdown",
      "metadata": {
        "id": "cLjV5xOVtLjn"
      },
      "source": [
        "### Distributed representations\n",
        "\n",
        "This simple baseline sums the GloVe vector representations for all of the words in the \"middle\" span and feeds those representations into the standard `LogisticRegression`-based `model_factory`. The crucial parameter that enables this is `vectorize=False`. This essentially says to `rel_ext.experiment` that your featurizer or your model will do the work of turning examples into vectors; in that case, `rel_ext.experiment` just organizes these representations by relation type."
      ]
    },
    {
      "cell_type": "code",
      "metadata": {
        "id": "eivQOmbFtLjn"
      },
      "source": [
        "GLOVE_HOME = os.path.join(sys.path[-1],'data/glove.6B')"
      ],
      "execution_count": 222,
      "outputs": []
    },
    {
      "cell_type": "code",
      "metadata": {
        "id": "rLAV-eCotLjn"
      },
      "source": [
        "glove_lookup = utils.glove2dict(\n",
        "    os.path.join(GLOVE_HOME, 'glove.6B.300d.txt'))"
      ],
      "execution_count": 223,
      "outputs": []
    },
    {
      "cell_type": "code",
      "metadata": {
        "id": "zp7TUHK2tLjn"
      },
      "source": [
        "def glove_middle_featurizer(kbt, corpus, np_func=np.sum):\n",
        "    reps = []\n",
        "    for ex in corpus.get_examples_for_entities(kbt.sbj, kbt.obj):\n",
        "        for word in ex.middle.split():\n",
        "            rep = glove_lookup.get(word)\n",
        "            if rep is not None:\n",
        "                reps.append(rep)\n",
        "    # A random representation of the right dimensionality if the\n",
        "    # example happens not to overlap with GloVe's vocabulary:\n",
        "    if len(reps) == 0:\n",
        "        dim = len(next(iter(glove_lookup.values())))\n",
        "        return utils.randvec(n=dim)\n",
        "    else:\n",
        "        return np_func(reps, axis=0)"
      ],
      "execution_count": 224,
      "outputs": []
    },
    {
      "cell_type": "code",
      "metadata": {
        "id": "5AlO9HLotLjo",
        "colab": {
          "base_uri": "https://localhost:8080/"
        },
        "outputId": "0053ea9c-5334-4f05-eebc-3d73a67ec7b9"
      },
      "source": [
        "glove_results = rel_ext.experiment(\n",
        "    splits,\n",
        "    train_split='train',\n",
        "    test_split='dev',\n",
        "    featurizers=[glove_middle_featurizer],\n",
        "    vectorize=False, # Crucial for this featurizer!\n",
        "    verbose=True)"
      ],
      "execution_count": 225,
      "outputs": [
        {
          "output_type": "stream",
          "text": [
            "relation              precision     recall    f-score    support       size\n",
            "------------------    ---------  ---------  ---------  ---------  ---------\n",
            "adjoins                   0.823      0.465      0.713        340       5716\n",
            "author                    0.813      0.436      0.693        509       5885\n",
            "capital                   0.657      0.242      0.489         95       5471\n",
            "contains                  0.537      0.793      0.574       3904       9280\n",
            "film_performance          0.725      0.320      0.578        766       6142\n",
            "founders                  0.720      0.224      0.499        380       5756\n",
            "genre                     0.542      0.076      0.244        170       5546\n",
            "has_sibling               0.785      0.248      0.548        499       5875\n",
            "has_spouse                0.767      0.360      0.626        594       5970\n",
            "is_a                      0.658      0.151      0.393        497       5873\n",
            "nationality               0.592      0.203      0.428        301       5677\n",
            "parents                   0.862      0.420      0.712        312       5688\n",
            "place_of_birth            0.619      0.223      0.457        233       5609\n",
            "place_of_death            0.432      0.119      0.284        159       5535\n",
            "profession                0.627      0.130      0.355        247       5623\n",
            "worked_at                 0.714      0.227      0.500        242       5618\n",
            "------------------    ---------  ---------  ---------  ---------  ---------\n",
            "macro-average             0.680      0.290      0.506       9248      95264\n"
          ],
          "name": "stdout"
        }
      ]
    },
    {
      "cell_type": "markdown",
      "metadata": {
        "id": "XsJr4U0vtLjo"
      },
      "source": [
        "With the same basic code design, one can also use the PyTorch models included in the course repo, or write new ones that are better aligned with the task. For those models, it's likely that the featurizer will just return a list of tokens (or perhaps a list of lists of tokens), and the model will map those into vectors using an embedding."
      ]
    },
    {
      "cell_type": "markdown",
      "metadata": {
        "id": "RPb0N5gUtLjo"
      },
      "source": [
        "### Different model factory [1 points]\n",
        "\n",
        "The code in `rel_ext` makes it very easy to experiment with other classifier models: one need only redefine the `model_factory` argument. This question asks you to assess a [Support Vector Classifier](https://scikit-learn.org/stable/modules/generated/sklearn.svm.SVC.html).\n",
        "\n",
        "__To submit:__ A wrapper function `run_svm_model_factory` that does the following: \n",
        "\n",
        "1. Uses `rel_ext.experiment` with the model factory set to one based in an `SVC` with `kernel='linear'` and all other arguments left with default values. \n",
        "1. Trains on the 'train' part of `splits`.\n",
        "1. Assesses on the `dev` part of `splits`.\n",
        "1. Uses `featurizers` as defined above. \n",
        "1. Returns the return value of `rel_ext.experiment` for this set-up.\n",
        "\n",
        "The function `test_run_svm_model_factory` will check that your function conforms to these general specifications."
      ]
    },
    {
      "cell_type": "code",
      "metadata": {
        "id": "NsSsVldStLjo"
      },
      "source": [
        "def run_svm_model_factory():\n",
        "    \n",
        "    ##### YOUR CODE HERE\n",
        "    model_factory_svc = lambda: SVC(kernel='linear')\n",
        "    \n",
        "    return rel_ext.experiment(\n",
        "    splits,\n",
        "    train_split='train',\n",
        "    test_split='dev',\n",
        "    featurizers=featurizers,\n",
        "    model_factory=model_factory_svc,\n",
        "    verbose=True)\n",
        "\n"
      ],
      "execution_count": 226,
      "outputs": []
    },
    {
      "cell_type": "code",
      "metadata": {
        "id": "cDhN_HkntLjo"
      },
      "source": [
        "def test_run_svm_model_factory(run_svm_model_factory):\n",
        "    results = run_svm_model_factory()\n",
        "    assert 'featurizers' in results, \\\n",
        "        \"The return value of `run_svm_model_factory` seems not to be correct\"\n",
        "    # Check one of the models to make sure it's an SVC:\n",
        "    assert 'SVC' in results['models']['adjoins'].__class__.__name__, \\\n",
        "        \"It looks like the model factor wasn't set to use an SVC.\""
      ],
      "execution_count": 227,
      "outputs": []
    },
    {
      "cell_type": "code",
      "metadata": {
        "id": "9TR1Ud8RtLjp"
      },
      "source": [
        "#if 'IS_GRADESCOPE_ENV' not in os.environ:\n",
        "    #test_run_svm_model_factory(run_svm_model_factory)"
      ],
      "execution_count": 228,
      "outputs": []
    },
    {
      "cell_type": "markdown",
      "metadata": {
        "id": "qmn-_p1CtLjp"
      },
      "source": [
        "### Directional unigram features [1.5 points]\n",
        "\n",
        "The current bag-of-words representation makes no distinction between \"forward\" and \"reverse\" examples. But, intuitively, there is big difference between _X and his son Y_ and _Y and his son X_. This question asks you to modify `simple_bag_of_words_featurizer` to capture these differences. \n",
        "\n",
        "__To submit:__\n",
        "\n",
        "1. A feature function `directional_bag_of_words_featurizer` that is just like `simple_bag_of_words_featurizer` except that it distinguishes \"forward\" and \"reverse\". To do this, you just need to mark each word feature for whether it is derived from a subject–object example or from an object–subject example.  The included function `test_directional_bag_of_words_featurizer` should help verify that you've done this correctly.\n",
        "\n",
        "2. A call to `rel_ext.experiment` with `directional_bag_of_words_featurizer` as the only featurizer. (Aside from this, use all the default values for `rel_ext.experiment` as exemplified above in this notebook.)\n",
        "\n",
        "3. `rel_ext.experiment` returns some of the core objects used in the experiment. How many feature names does the `vectorizer` have for the experiment run in the previous step? Include the code needed for getting this value. (Note: we're partly asking you to figure out how to get this value by using the sklearn documentation, so please don't ask how to do it!)"
      ]
    },
    {
      "cell_type": "code",
      "metadata": {
        "id": "vcQN_oVftLjp"
      },
      "source": [
        "def directional_bag_of_words_featurizer(kbt, corpus, feature_counter):\n",
        "    # Append these to the end of the keys you add/access in\n",
        "    # `feature_counter` to distinguish the two orders. You'll\n",
        "    # need to use exactly these strings in order to pass\n",
        "    # `test_directional_bag_of_words_featurizer`.\n",
        "    subject_object_suffix = \"_SO\"\n",
        "    object_subject_suffix = \"_OS\"\n",
        "    \n",
        "    ##### YOUR CODE HERE\n",
        "    for ex in corpus.get_examples_for_entities(kbt.sbj, kbt.obj):\n",
        "        for word in ex.middle.split(' '):\n",
        "            haystack = word + subject_object_suffix\n",
        "            feature_counter[haystack] += 1\n",
        "    for ex in corpus.get_examples_for_entities(kbt.obj, kbt.sbj):\n",
        "        print(ex)\n",
        "        print(ex.middle)\n",
        "        for word in ex.middle.split(' '):\n",
        "            print(word)\n",
        "            haystack = word + object_subject_suffix\n",
        "            feature_counter[haystack] += 1\n",
        "    return feature_counter\n",
        "\n",
        "\n",
        "# Call to `rel_ext.experiment`:\n",
        "##### YOUR CODE HERE\n",
        "#results = rel_ext.experiment(\n",
        "#    splits,\n",
        "#    train_split='train',\n",
        "#    test_split='dev',\n",
        "#    featurizers=[directional_bag_of_words_featurizer],\n",
        "#    model_factory=model_factory,\n",
        "#    verbose=True)"
      ],
      "execution_count": 229,
      "outputs": []
    },
    {
      "cell_type": "code",
      "metadata": {
        "id": "yDi_wkMetLjp"
      },
      "source": [
        "def test_directional_bag_of_words_featurizer(corpus):\n",
        "    from collections import defaultdict\n",
        "    kbt = rel_ext.KBTriple(rel='worked_at', sbj='Randall_Munroe', obj='xkcd')\n",
        "    feature_counter = defaultdict(int)\n",
        "    # Make sure `feature_counter` is being updated, not reinitialized:\n",
        "    feature_counter['is_OS'] += 5\n",
        "    feature_counter = directional_bag_of_words_featurizer(kbt, corpus, feature_counter)\n",
        "    expected = defaultdict(\n",
        "        int, {'is_OS':6,'a_OS':1,'webcomic_OS':1,'created_OS':1,'by_OS':1})\n",
        "    assert feature_counter == expected, \\\n",
        "        \"Expected:\\n{}\\nGot:\\n{}\".format(expected, feature_counter)"
      ],
      "execution_count": 230,
      "outputs": []
    },
    {
      "cell_type": "code",
      "metadata": {
        "id": "sGfEAQ1CtLjp",
        "colab": {
          "base_uri": "https://localhost:8080/"
        },
        "outputId": "87aba5d6-0bd5-42a2-91ab-65d53fb47a4c"
      },
      "source": [
        "if 'IS_GRADESCOPE_ENV' not in os.environ:\n",
        "    test_directional_bag_of_words_featurizer(corpus)"
      ],
      "execution_count": 231,
      "outputs": [
        {
          "output_type": "stream",
          "text": [
            "Example(entity_1='xkcd', entity_2='Randall_Munroe', left='xkcd - Wikiquote xkcd From Wikiquote Jump to : navigation , search', mention_1='xkcd', middle='is a webcomic created by', mention_2='Randall Munroe', right=\", a former contractor for NASA . He describes it as `` a webcomic of romance , sarcasm , math , and language . '' Munroe states there is no particular\", left_POS='xkcd/NN -/: Wikiquote/NNP xkcd/VBD From/IN Wikiquote/NNP Jump/NN to/TO :/: navigation/NN ,/, search/NN', mention_1_POS='xkcd/NN', middle_POS='is/VBZ a/DT webcomic/JJ created/VBN by/IN', mention_2_POS='Randall/NNP Munroe/NNP', right_POS=\",/, a/DT former/JJ contractor/NN for/IN NASA/NNP ./. He/PRP describes/VBZ it/PRP as/IN ``/`` a/DT webcomic/JJ of/IN romance/NN ,/, sarcasm/NN ,/, math/NN ,/, and/CC language/NN ./. ''/'' Munroe/NNP states/VBZ there/EX is/VBZ no/DT particular/JJ\")\n",
            "is a webcomic created by\n",
            "is\n",
            "a\n",
            "webcomic\n",
            "created\n",
            "by\n"
          ],
          "name": "stdout"
        }
      ]
    },
    {
      "cell_type": "markdown",
      "metadata": {
        "id": "BB6Qa00wtLjq"
      },
      "source": [
        "### The part-of-speech tags of the \"middle\" words [1.5 points]\n",
        "\n",
        "Our corpus distribution contains part-of-speech (POS) tagged versions of the core text spans. Let's begin to explore whether there is information in these sequences, focusing on `middle_POS`.\n",
        "\n",
        "__To submit:__\n",
        "\n",
        "1. A feature function `middle_bigram_pos_tag_featurizer` that is just like `simple_bag_of_words_featurizer` except that it creates a feature for bigram POS sequences. For example, given \n",
        "\n",
        "  `The/DT dog/N napped/V`\n",
        "  \n",
        "   we obtain the list of bigram POS sequences\n",
        "  \n",
        "   `b = ['<s> DT', 'DT N', 'N V', 'V </s>']`. \n",
        "   \n",
        "   Of course, `middle_bigram_pos_tag_featurizer` should return count dictionaries defined in terms of such bigram POS lists, on the model of `simple_bag_of_words_featurizer`.  Don't forget the start and end tags, to model those environments properly! The included function `test_middle_bigram_pos_tag_featurizer` should help verify that you've done this correctly.\n",
        "\n",
        "2. A call to `rel_ext.experiment` with `middle_bigram_pos_tag_featurizer` as the only featurizer. (Aside from this, use all the default values for `rel_ext.experiment` as exemplified above in this notebook.)"
      ]
    },
    {
      "cell_type": "code",
      "metadata": {
        "id": "c0Yr0hZntLjq",
        "colab": {
          "base_uri": "https://localhost:8080/"
        },
        "outputId": "51d7be9d-b4df-43e5-f807-cf23ebb2c4ec"
      },
      "source": [
        "def directional_middle_bigram_pos_tag_featurizer(kbt, corpus, feature_counter):\n",
        "     # Append these to the end of the keys you add/access in\n",
        "    # `feature_counter` to distinguish the two orders. You'll\n",
        "    # need to use exactly these strings in order to pass\n",
        "    # `test_directional_bag_of_words_featurizer`.\n",
        "    subject_object_suffix = \"_SO\"\n",
        "    object_subject_suffix = \"_OS\"\n",
        "    ##### YOUR CODE HERE\n",
        "    for ex in corpus.get_examples_for_entities(kbt.sbj, kbt.obj):\n",
        "        for word in get_tag_bigrams(ex.middle_POS):\n",
        "            haystack = word + subject_object_suffix\n",
        "            feature_counter[haystack] += 1\n",
        "    for ex in corpus.get_examples_for_entities(kbt.obj, kbt.sbj):\n",
        "        for word in get_tag_bigrams(ex.middle_POS):\n",
        "            haystack = word + object_subject_suffix\n",
        "            feature_counter[haystack] += 1\n",
        "    \n",
        "    return feature_counter\n",
        "\n",
        "def middle_bigram_pos_tag_featurizer(kbt, corpus, feature_counter):\n",
        "\n",
        "    ##### YOUR CODE HERE\n",
        "    for ex in corpus.get_examples_for_entities(kbt.sbj, kbt.obj):\n",
        "        for word in get_tag_bigrams(ex.middle_POS):\n",
        "            feature_counter[word] += 1\n",
        "    for ex in corpus.get_examples_for_entities(kbt.obj, kbt.sbj):\n",
        "        for word in get_tag_bigrams(ex.middle_POS):\n",
        "            feature_counter[word] += 1\n",
        "    \n",
        "    return feature_counter\n",
        " \n",
        "\n",
        "def get_tag_bigrams(s):\n",
        "    \"\"\"Suggested helper method for `middle_bigram_pos_tag_featurizer`.\n",
        "    This should be defined so that it returns a list of str, where each\n",
        "    element is a POS bigram.\"\"\"\n",
        "    # The values of `start_symbol` and `end_symbol` are defined\n",
        "    # here so that you can use `test_middle_bigram_pos_tag_featurizer`.\n",
        "    start_symbol = \"<s>\"\n",
        "    end_symbol = \"</s>\"\n",
        "\n",
        "    ##### YOUR CODE HERE\n",
        "    tags = get_tags(s)\n",
        "    return_list = []\n",
        "    for i in range(len(tags)):\n",
        "        if i == 0:\n",
        "            return_list.append(start_symbol + ' ' + tags[i])\n",
        "        elif i == len(tags) - 1:\n",
        "            prev_i = i - 1\n",
        "            return_list.append(tags[prev_i] + ' ' + tags[i])\n",
        "            return_list.append(tags[i] + ' ' + end_symbol)\n",
        "        else:\n",
        "            prev_i = i - 1\n",
        "            return_list.append(tags[prev_i] + ' ' + tags[i])\n",
        "    return return_list\n",
        "        \n",
        "\n",
        "\n",
        "def get_tags(s):\n",
        "    \"\"\"Given a sequence of word/POS elements (lemmas), this function\n",
        "    returns a list containing just the POS elements, in order.\n",
        "    \"\"\"\n",
        "    return [parse_lem(lem)[1] for lem in s.strip().split(' ') if lem]\n",
        "\n",
        "\n",
        "def parse_lem(lem):\n",
        "    \"\"\"Helper method for parsing word/POS elements. It just splits\n",
        "    on the rightmost / and returns (word, POS) as a tuple of str.\"\"\"\n",
        "    return lem.strip().rsplit('/', 1)\n",
        "\n",
        "# Call to `rel_ext.experiment`:\n",
        "##### YOUR CODE HERE\n",
        "results = rel_ext.experiment(\n",
        "    splits,\n",
        "    train_split='train',\n",
        "    test_split='dev',\n",
        "    featurizers=[middle_bigram_pos_tag_featurizer],\n",
        "    model_factory=model_factory,\n",
        "    verbose=True)\n",
        "\n",
        "\n",
        "results_2 = rel_ext.experiment(\n",
        "    splits,\n",
        "    train_split='train',\n",
        "    test_split='dev',\n",
        "    featurizers=[directional_middle_bigram_pos_tag_featurizer],\n",
        "    model_factory=model_factory,\n",
        "    verbose=True)"
      ],
      "execution_count": 232,
      "outputs": [
        {
          "output_type": "stream",
          "text": [
            "relation              precision     recall    f-score    support       size\n",
            "------------------    ---------  ---------  ---------  ---------  ---------\n",
            "adjoins                   0.807      0.356      0.644        340       5716\n",
            "author                    0.566      0.444      0.537        509       5885\n",
            "capital                   0.500      0.147      0.338         95       5471\n",
            "contains                  0.611      0.847      0.647       3904       9280\n",
            "film_performance          0.543      0.535      0.541        766       6142\n",
            "founders                  0.309      0.187      0.273        380       5756\n",
            "genre                     0.436      0.141      0.308        170       5546\n",
            "has_sibling               0.624      0.146      0.377        499       5875\n",
            "has_spouse                0.579      0.264      0.468        594       5970\n",
            "is_a                      0.435      0.215      0.361        497       5873\n",
            "nationality               0.159      0.060      0.120        301       5677\n",
            "parents                   0.500      0.333      0.455        312       5688\n",
            "place_of_birth            0.256      0.086      0.183        233       5609\n",
            "place_of_death            0.083      0.019      0.050        159       5535\n",
            "profession                0.631      0.401      0.566        247       5623\n",
            "worked_at                 0.297      0.045      0.141        242       5618\n",
            "------------------    ---------  ---------  ---------  ---------  ---------\n",
            "macro-average             0.459      0.264      0.375       9248      95264\n",
            "relation              precision     recall    f-score    support       size\n",
            "------------------    ---------  ---------  ---------  ---------  ---------\n",
            "adjoins                   0.827      0.409      0.687        340       5716\n",
            "author                    0.594      0.578      0.591        509       5885\n",
            "capital                   0.463      0.200      0.367         95       5471\n",
            "contains                  0.678      0.876      0.710       3904       9280\n",
            "film_performance          0.550      0.678      0.572        766       6142\n",
            "founders                  0.401      0.287      0.371        380       5756\n",
            "genre                     0.500      0.347      0.460        170       5546\n",
            "has_sibling               0.639      0.170      0.412        499       5875\n",
            "has_spouse                0.562      0.303      0.480        594       5970\n",
            "is_a                      0.475      0.247      0.401        497       5873\n",
            "nationality               0.303      0.166      0.260        301       5677\n",
            "parents                   0.532      0.369      0.489        312       5688\n",
            "place_of_birth            0.484      0.189      0.369        233       5609\n",
            "place_of_death            0.341      0.088      0.217        159       5535\n",
            "profession                0.665      0.506      0.626        247       5623\n",
            "worked_at                 0.408      0.165      0.315        242       5618\n",
            "------------------    ---------  ---------  ---------  ---------  ---------\n",
            "macro-average             0.526      0.349      0.458       9248      95264\n"
          ],
          "name": "stdout"
        }
      ]
    },
    {
      "cell_type": "code",
      "metadata": {
        "id": "RRoRMU8MtLjq"
      },
      "source": [
        "def test_middle_bigram_pos_tag_featurizer(corpus):\n",
        "    from collections import defaultdict\n",
        "    kbt = rel_ext.KBTriple(rel='worked_at', sbj='Randall_Munroe', obj='xkcd')\n",
        "    feature_counter = defaultdict(int)\n",
        "    # Make sure `feature_counter` is being updated, not reinitialized:\n",
        "    feature_counter['<s> VBZ'] += 5\n",
        "    feature_counter = middle_bigram_pos_tag_featurizer(kbt, corpus, feature_counter)\n",
        "    expected = defaultdict(\n",
        "        int, {'<s> VBZ':6,'VBZ DT':1,'DT JJ':1,'JJ VBN':1,'VBN IN':1,'IN </s>':1})\n",
        "    assert feature_counter == expected, \\\n",
        "        \"Expected:\\n{}\\nGot:\\n{}\".format(expected, feature_counter)"
      ],
      "execution_count": 233,
      "outputs": []
    },
    {
      "cell_type": "code",
      "metadata": {
        "id": "PoKZ5JibtLjq"
      },
      "source": [
        "if 'IS_GRADESCOPE_ENV' not in os.environ:\n",
        "    test_middle_bigram_pos_tag_featurizer(corpus)"
      ],
      "execution_count": 234,
      "outputs": []
    },
    {
      "cell_type": "markdown",
      "metadata": {
        "id": "mIpHfiUJtLjq"
      },
      "source": [
        "### Bag of Synsets [2 points]\n",
        "\n",
        "The following allows you to use NLTK's WordNet API to get the synsets compatible with _dog_ as used as a noun:\n",
        "\n",
        "```\n",
        "from nltk.corpus import wordnet as wn\n",
        "dog = wn.synsets('dog', pos='n')\n",
        "dog\n",
        "[Synset('dog.n.01'),\n",
        " Synset('frump.n.01'),\n",
        " Synset('dog.n.03'),\n",
        " Synset('cad.n.01'),\n",
        " Synset('frank.n.02'),\n",
        " Synset('pawl.n.01'),\n",
        " Synset('andiron.n.01')]\n",
        "```\n",
        "\n",
        "This question asks you to create synset-based features from the word/tag pairs in `middle_POS`.\n",
        "\n",
        "__To submit:__\n",
        "\n",
        "1. A feature function `synset_featurizer` that is just like `simple_bag_of_words_featurizer` except that it returns a list of synsets derived from `middle_POS`. Stringify these objects with `str` so that they can be `dict` keys. Use `convert_tag` (included below) to convert tags to `pos` arguments usable by `wn.synsets`. The included function `test_synset_featurizer` should help verify that you've done this correctly.\n",
        "\n",
        "2. A call to `rel_ext.experiment` with `synset_featurizer` as the only featurizer. (Aside from this, use all the default values for `rel_ext.experiment`.)"
      ]
    },
    {
      "cell_type": "code",
      "metadata": {
        "id": "brknKNJXtLjr",
        "colab": {
          "base_uri": "https://localhost:8080/"
        },
        "outputId": "3376bb72-5fc8-4f25-cea8-fa6f83a2f655"
      },
      "source": [
        "from nltk.corpus import wordnet as wn\n",
        "import nltk\n",
        "nltk.download('wordnet')\n",
        "def synset_featurizer(kbt, corpus, feature_counter):\n",
        "\n",
        "    ##### YOUR CODE HERE\n",
        "    for ex in corpus.get_examples_for_entities(kbt.sbj, kbt.obj):\n",
        "        for word in get_synsets(ex.middle_POS):\n",
        "            feature_counter[word] += 1\n",
        "        \n",
        "    for ex in corpus.get_examples_for_entities(kbt.obj, kbt.sbj):\n",
        "        for word in get_synsets(ex.middle_POS):\n",
        "            feature_counter[word] += 1\n",
        "    return feature_counter\n",
        "\n",
        "\n",
        "def get_synsets(s):\n",
        "    \"\"\"Suggested helper method for `synset_featurizer`. This should\n",
        "    be completed so that it returns a list of stringified Synsets\n",
        "    associated with elements of `s`.\n",
        "    \"\"\"\n",
        "    # Use `parse_lem` from the previous question to get a list of\n",
        "    # (word, POS) pairs. Remember to convert the POS strings.\n",
        "    wt = [parse_lem(lem) for lem in s.strip().split(' ') if lem]\n",
        "    \n",
        "    return_list = []\n",
        "    ##### YOUR CODE HERE\n",
        "    for i in range(len(wt)):\n",
        "        text = wt[i][0]\n",
        "        tag = convert_tag(wt[i][1])\n",
        "        for x in wn.synsets(text, pos=tag):\n",
        "            return_list.append(str(x))\n",
        "    return return_list\n",
        "\n",
        "\n",
        "def convert_tag(t):\n",
        "    \"\"\"Converts tags so that they can be used by WordNet:\n",
        "\n",
        "    | Tag begins with | WordNet tag |\n",
        "    |-----------------|-------------|\n",
        "    | `N`             | `n`         |\n",
        "    | `V`             | `v`         |\n",
        "    | `J`             | `a`         |\n",
        "    | `R`             | `r`         |\n",
        "    | Otherwise       | `None`      |\n",
        "    \"\"\"\n",
        "    if t[0].lower() in {'n', 'v', 'r'}:\n",
        "        return t[0].lower()\n",
        "    elif t[0].lower() == 'j':\n",
        "        return 'a'\n",
        "    else:\n",
        "        return None\n",
        "\n",
        "\n",
        "# Call to `rel_ext.experiment`:\n",
        "##### YOUR CODE HERE\n",
        "results = rel_ext.experiment(\n",
        "    splits,\n",
        "    train_split='train',\n",
        "    test_split='dev',\n",
        "    featurizers=[synset_featurizer],\n",
        "    model_factory=model_factory,\n",
        "    verbose=True)"
      ],
      "execution_count": 235,
      "outputs": [
        {
          "output_type": "stream",
          "text": [
            "[nltk_data] Downloading package wordnet to /root/nltk_data...\n",
            "[nltk_data]   Package wordnet is already up-to-date!\n"
          ],
          "name": "stdout"
        },
        {
          "output_type": "stream",
          "text": [
            "/usr/local/lib/python3.7/dist-packages/sklearn/svm/_base.py:947: ConvergenceWarning: Liblinear failed to converge, increase the number of iterations.\n",
            "  \"the number of iterations.\", ConvergenceWarning)\n"
          ],
          "name": "stderr"
        },
        {
          "output_type": "stream",
          "text": [
            "relation              precision     recall    f-score    support       size\n",
            "------------------    ---------  ---------  ---------  ---------  ---------\n",
            "adjoins                   0.777      0.318      0.603        340       5716\n",
            "author                    0.738      0.593      0.704        509       5885\n",
            "capital                   0.659      0.305      0.535         95       5471\n",
            "contains                  0.536      0.862      0.580       3904       9280\n",
            "film_performance          0.743      0.567      0.700        766       6142\n",
            "founders                  0.707      0.387      0.606        380       5756\n",
            "genre                     0.483      0.253      0.409        170       5546\n",
            "has_sibling               0.642      0.204      0.449        499       5875\n",
            "has_spouse                0.734      0.301      0.570        594       5970\n",
            "is_a                      0.607      0.233      0.460        497       5873\n",
            "nationality               0.444      0.120      0.288        301       5677\n",
            "parents                   0.778      0.551      0.719        312       5688\n",
            "place_of_birth            0.523      0.197      0.393        233       5609\n",
            "place_of_death            0.244      0.063      0.155        159       5535\n",
            "profession                0.523      0.138      0.335        247       5623\n",
            "worked_at                 0.716      0.281      0.547        242       5618\n",
            "------------------    ---------  ---------  ---------  ---------  ---------\n",
            "macro-average             0.616      0.336      0.503       9248      95264\n"
          ],
          "name": "stdout"
        }
      ]
    },
    {
      "cell_type": "code",
      "metadata": {
        "id": "Fw9Ovh08tLjr"
      },
      "source": [
        "def test_synset_featurizer(corpus):\n",
        "    from collections import defaultdict\n",
        "    kbt = rel_ext.KBTriple(rel='worked_at', sbj='Randall_Munroe', obj='xkcd')\n",
        "    feature_counter = defaultdict(int)\n",
        "    # Make sure `feature_counter` is being updated, not reinitialized:\n",
        "    feature_counter[\"Synset('be.v.01')\"] += 5\n",
        "    feature_counter = synset_featurizer(kbt, corpus, feature_counter)\n",
        "    # The full return values for this tend to be long, so we just\n",
        "    # test a few examples to avoid cluttering up this notebook.\n",
        "    test_cases = {\n",
        "        \"Synset('be.v.01')\": 6,\n",
        "        \"Synset('embody.v.02')\": 1\n",
        "    }\n",
        "    for ss, expected in test_cases.items():\n",
        "        result = feature_counter[ss]\n",
        "        assert result == expected, \\\n",
        "            \"Incorrect count for {}: Expected {}; Got {}\".format(ss, expected, result)"
      ],
      "execution_count": 236,
      "outputs": []
    },
    {
      "cell_type": "code",
      "metadata": {
        "id": "jx2pTMlftLjr"
      },
      "source": [
        "if 'IS_GRADESCOPE_ENV' not in os.environ:\n",
        "    test_synset_featurizer(corpus)"
      ],
      "execution_count": 237,
      "outputs": []
    },
    {
      "cell_type": "markdown",
      "metadata": {
        "id": "RCvVg6wCb0fB"
      },
      "source": [
        "# Original system"
      ]
    },
    {
      "cell_type": "code",
      "metadata": {
        "id": "pX00PYWytLjs",
        "colab": {
          "base_uri": "https://localhost:8080/"
        },
        "outputId": "3b18b9d3-8354-4b3b-baf1-0e18a16bb10f"
      },
      "source": [
        "\n",
        "import sklearn.linear_model\n",
        "import sklearn.svm\n",
        "from sklearn.neighbors import NearestCentroid\n",
        "SGD_factory = lambda: sklearn.linear_model.SGDClassifier(loss='hinge')\n",
        "challenger_factory = lambda: NearestCentroid()\n",
        "\n",
        "def directional_bag_of_words_featurizer_original_system(kbt, corpus, feature_counter):\n",
        "    # Append these to the end of the keys you add/access in\n",
        "    # `feature_counter` to distinguish the two orders. You'll\n",
        "    # need to use exactly these strings in order to pass\n",
        "    # `test_directional_bag_of_words_featurizer`.\n",
        "    subject_object_suffix = \"_SO\"\n",
        "    object_subject_suffix = \"_OS\"\n",
        "    \n",
        "    for ex in corpus.get_examples_for_entities(kbt.sbj, kbt.obj):\n",
        "        for word in ex.middle.split(' '):\n",
        "            haystack = word + subject_object_suffix\n",
        "            feature_counter[haystack] += 1\n",
        "    for ex in corpus.get_examples_for_entities(kbt.obj, kbt.sbj):\n",
        "        for word in ex.middle.split(' '):\n",
        "            haystack = word + object_subject_suffix\n",
        "            feature_counter[haystack] += 1\n",
        "    return feature_counter\n",
        "\n",
        "def directional_middle_bigram_pos_tag_featurizer(kbt, corpus, feature_counter):\n",
        "     # Append these to the end of the keys you add/access in\n",
        "    # `feature_counter` to distinguish the two orders. You'll\n",
        "    # need to use exactly these strings in order to pass\n",
        "    # `test_directional_bag_of_words_featurizer`.\n",
        "    subject_object_suffix = \"_SO\"\n",
        "    object_subject_suffix = \"_OS\"\n",
        "\n",
        "    for ex in corpus.get_examples_for_entities(kbt.sbj, kbt.obj):\n",
        "        for word in get_tag_bigrams(ex.middle_POS):\n",
        "            haystack = word + subject_object_suffix\n",
        "            feature_counter[haystack] += 1\n",
        "    for ex in corpus.get_examples_for_entities(kbt.obj, kbt.sbj):\n",
        "        for word in get_tag_bigrams(ex.middle_POS):\n",
        "            haystack = word + object_subject_suffix\n",
        "            feature_counter[haystack] += 1\n",
        "    \n",
        "    return feature_counter\n",
        "\n",
        "\n",
        "def gridsearch(featurizers: list, model_factories: list, splits = None, \n",
        "               train_split: str = 'train', test_split: str = 'dev'\n",
        "):\n",
        "    '''\n",
        "    Runs Grid Search \n",
        "    \n",
        "    splits: param for rel_ext.experiment()\n",
        "    train_split: param for rel_ext.experiment()\n",
        "    test_split: param for rel_ext.experiment()\n",
        "    featurizers: list of feauturizers that will be used for the grid search\n",
        "    model_factories: list of model_factories that will be used for the grid search\n",
        "    '''\n",
        "    best_result = 0\n",
        "    best_combination = {'feauturizer': None, 'factory': None}\n",
        "    experiment = 0\n",
        "    for feauturizer in featurizers:\n",
        "        for model_factory in model_factories:\n",
        "            experiment += 1;\n",
        "            train_results, evaluation_result = rel_ext.experiment(\n",
        "                splits,\n",
        "                train_split=train_split,\n",
        "                test_split=test_split,\n",
        "                featurizers=[feauturizer],\n",
        "                model_factory=model_factory,\n",
        "                vectorize=True,\n",
        "                verbose=False)\n",
        "            print(\n",
        "              'Experiment #', \n",
        "              experiment, '\\n', \n",
        "              feauturizer.__name__, model_factory(), \n",
        "              evaluation_result\n",
        "            )\n",
        "            if evaluation_result > best_result:\n",
        "                best_result = evaluation_result\n",
        "                best_combination['feauturizer'] = feauturizer.__name__\n",
        "                best_combination['feauturizer_model'] = feauturizer\n",
        "                best_combination['factory'] = model_factory()\n",
        "                best_combination['factory_model'] = model_factory\n",
        "    \n",
        "    print('----BEST SYSTEM----')\n",
        "    print('Best performing system score:', best_result)\n",
        "    print(best_combination)\n",
        "    \n",
        "    rel_ext.experiment(\n",
        "      splits,\n",
        "      train_split=train_split,\n",
        "      test_split=test_split,\n",
        "      featurizers=[best_combination['feauturizer_model']],\n",
        "      model_factory=best_combination['factory_model'],\n",
        "      vectorize=True,\n",
        "      verbose=True,\n",
        "    )\n",
        "\n",
        "    \n",
        "\n",
        "# Run the gridsearch and expriments on the best model\n",
        "# %time \\\n",
        "gridsearch(\n",
        "  [directional_bag_of_words_featurizer_original_system, simple_bag_of_words_featurizer],\n",
        "  [lambda: sklearn.linear_model.SGDClassifier(loss='hinge'), lambda: NearestCentroid()],\n",
        "  splits,\n",
        "  'train',\n",
        "  'dev',\n",
        ")"
      ],
      "execution_count": 238,
      "outputs": [
        {
          "output_type": "stream",
          "text": [
            "Experiment # 1 \n",
            " directional_bag_of_words_featurizer_original_system SGDClassifier(alpha=0.0001, average=False, class_weight=None,\n",
            "              early_stopping=False, epsilon=0.1, eta0=0.0, fit_intercept=True,\n",
            "              l1_ratio=0.15, learning_rate='optimal', loss='hinge',\n",
            "              max_iter=1000, n_iter_no_change=5, n_jobs=None, penalty='l2',\n",
            "              power_t=0.5, random_state=None, shuffle=True, tol=0.001,\n",
            "              validation_fraction=0.1, verbose=0, warm_start=False) 0.5376881576267383\n",
            "Experiment # 2 \n",
            " directional_bag_of_words_featurizer_original_system NearestCentroid(metric='euclidean', shrink_threshold=None) 0.21924236308360545\n",
            "Experiment # 3 \n",
            " simple_bag_of_words_featurizer SGDClassifier(alpha=0.0001, average=False, class_weight=None,\n",
            "              early_stopping=False, epsilon=0.1, eta0=0.0, fit_intercept=True,\n",
            "              l1_ratio=0.15, learning_rate='optimal', loss='hinge',\n",
            "              max_iter=1000, n_iter_no_change=5, n_jobs=None, penalty='l2',\n",
            "              power_t=0.5, random_state=None, shuffle=True, tol=0.001,\n",
            "              validation_fraction=0.1, verbose=0, warm_start=False) 0.501276900432727\n",
            "Experiment # 4 \n",
            " simple_bag_of_words_featurizer NearestCentroid(metric='euclidean', shrink_threshold=None) 0.19785428084839773\n",
            "----BEST SYSTEM----\n",
            "Best performing system score: 0.5376881576267383\n",
            "{'feauturizer': 'directional_bag_of_words_featurizer_original_system', 'factory': SGDClassifier(alpha=0.0001, average=False, class_weight=None,\n",
            "              early_stopping=False, epsilon=0.1, eta0=0.0, fit_intercept=True,\n",
            "              l1_ratio=0.15, learning_rate='optimal', loss='hinge',\n",
            "              max_iter=1000, n_iter_no_change=5, n_jobs=None, penalty='l2',\n",
            "              power_t=0.5, random_state=None, shuffle=True, tol=0.001,\n",
            "              validation_fraction=0.1, verbose=0, warm_start=False), 'feauturizer_model': <function directional_bag_of_words_featurizer_original_system at 0x7f49188f38c0>, 'factory_model': <function <lambda> at 0x7f4917c7e560>}\n",
            "relation              precision     recall    f-score    support       size\n",
            "------------------    ---------  ---------  ---------  ---------  ---------\n",
            "adjoins                   0.694      0.474      0.635        340       5716\n",
            "author                    0.733      0.670      0.720        509       5885\n",
            "capital                   0.400      0.316      0.380         95       5471\n",
            "contains                  0.669      0.881      0.702       3904       9280\n",
            "film_performance          0.619      0.731      0.639        766       6142\n",
            "founders                  0.626      0.432      0.574        380       5756\n",
            "genre                     0.663      0.371      0.573        170       5546\n",
            "has_sibling               0.756      0.261      0.548        499       5875\n",
            "has_spouse                0.686      0.423      0.610        594       5970\n",
            "is_a                      0.614      0.292      0.503        497       5873\n",
            "nationality               0.395      0.292      0.369        301       5677\n",
            "parents                   0.784      0.535      0.717        312       5688\n",
            "place_of_birth            0.560      0.202      0.413        233       5609\n",
            "place_of_death            0.472      0.107      0.281        159       5535\n",
            "profession                0.603      0.283      0.492        247       5623\n",
            "worked_at                 0.647      0.318      0.536        242       5618\n",
            "------------------    ---------  ---------  ---------  ---------  ---------\n",
            "macro-average             0.620      0.412      0.543       9248      95264\n"
          ],
          "name": "stdout"
        }
      ]
    },
    {
      "cell_type": "code",
      "metadata": {
        "id": "5b3Sai76t_e3"
      },
      "source": [
        ""
      ],
      "execution_count": 238,
      "outputs": []
    }
  ]
}